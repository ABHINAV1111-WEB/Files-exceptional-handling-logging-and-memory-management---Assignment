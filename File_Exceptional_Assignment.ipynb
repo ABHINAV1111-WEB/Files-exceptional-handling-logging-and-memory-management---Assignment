{
  "nbformat": 4,
  "nbformat_minor": 0,
  "metadata": {
    "colab": {
      "provenance": []
    },
    "kernelspec": {
      "name": "python3",
      "display_name": "Python 3"
    },
    "language_info": {
      "name": "python"
    }
  },
  "cells": [
    {
      "cell_type": "markdown",
      "source": [
        "**1. What is the difference between interpreted and compiled languages?**\n",
        "\n",
        "**Ans:**\n",
        "**Difference:**\n",
        "\n",
        "Execution Time: Interpreted languages are translated at runtime, while compiled languages are pre-translated into machine code.\n",
        "\n",
        "Error Handling: Interpreted languages allow you to identify errors during execution; compiled languages require error-free code before execution."
      ],
      "metadata": {
        "id": "z6xM2MIxVrc9"
      }
    },
    {
      "cell_type": "markdown",
      "source": [
        "**2. What is exception handling in Python?**\n",
        "\n",
        "**Ans:**\n",
        "Exception handling in Python is a mechanism to manage errors or \"exceptions\" that occur during the execution of a program. Instead of the program crashing, you can catch and handle these exceptions gracefully, ensuring the program can recover or execute alternative logic.\n",
        "\n",
        "Key Components of Exception Handling:\n",
        "try,except,else,finally"
      ],
      "metadata": {
        "id": "XKqNDVa3XVIS"
      }
    },
    {
      "cell_type": "markdown",
      "source": [
        "**3. What is the purpose of the finally block in exception handling?**\n",
        "\n",
        "**Ans:**\n",
        "The purpose of the finally block in exception handling is to ensure that certain code is always executed, regardless of whether an exception occurs or not. It's often used for cleanup operations or final steps that must be performed, such as closing files, releasing resources, or cleaning up memory."
      ],
      "metadata": {
        "id": "s73PMqbbXzjk"
      }
    },
    {
      "cell_type": "markdown",
      "source": [
        "**4. What is logging in Python?**\n",
        "\n",
        "**Ans:**\n",
        "Logging in Python is a built-in module that allows developers to track events or messages that occur during the execution of a program. It's particularly useful for debugging, monitoring, and keeping records of a program's runtime behavior."
      ],
      "metadata": {
        "id": "bShZ5KUGYH7m"
      }
    },
    {
      "cell_type": "markdown",
      "source": [
        "**5. What is the significance of the __del__ method in Python?**\n",
        "\n",
        "**Ans:**\n",
        "The __del__ method in Python is a special method, also known as the destructor. It is called when an object is about to be destroyed or removed from memory (i.e., when its reference count drops to zero). This method allows you to define cleanup actions for the object, such as releasing resources or closing files before the object is deleted."
      ],
      "metadata": {
        "id": "Ew8HbOd-YY_l"
      }
    },
    {
      "cell_type": "markdown",
      "source": [
        "**6. What is the difference between import and from ... import in Python?**\n",
        "\n",
        "**Ans:**\n",
        "**Differences:**\n",
        "\n",
        "**Scope:**\n",
        "  **import**: Import the entire module.\n",
        "\n",
        "  from ...import: Import specific items only\n",
        "\n",
        "**Access:**\n",
        "  import: requires using module prefix.\n",
        "\n",
        "  from ...import: access directly without prefix.\n",
        "\n",
        "**Namespace Pollution:**\n",
        "  import: less likely, as everything is scoped under module name.\n",
        "\n",
        "  from ...import: higher risk, especially with common names.\n",
        "\n",
        "**Readability: **\n",
        "  import: may be clearer when accessing multiple items.\n",
        "  \n",
        "  from ...import: can simplify code for selective imports.    \n"
      ],
      "metadata": {
        "id": "BeJT2IG-YpIf"
      }
    },
    {
      "cell_type": "markdown",
      "source": [
        "**7.  How can you handle multiple exceptions in Python?**\n",
        "\n",
        "**Ans:**\n",
        "In Python, you can handle multiple exceptions using various approaches:\n",
        "\n",
        "Method 1: Single Except Block\n",
        "You can catch multiple exceptions in a single except block by separating them with commas.\n",
        "\n",
        "Method 2: Multiple Except Blocks\n",
        "You can also use multiple except blocks to handle different exceptions separately.\n",
        "\n",
        "Method 3: Base Exception Class\n",
        "You can also catch all exceptions by using the base Exception class. However, this should be used with caution, as it can mask bugs in your code."
      ],
      "metadata": {
        "id": "i5qhla88i7bh"
      }
    },
    {
      "cell_type": "markdown",
      "source": [
        "**8. What is the purpose of the with statement when handling files in Python?**\n",
        "\n",
        "**Ans:**\n",
        "The with statement in Python is used for resource management, especially when working with files. It ensures that resources like files are properly opened and closed, even if an error occurs during execution. This makes your code cleaner, more readable, and less error-prone."
      ],
      "metadata": {
        "id": "tdQNc2i3jq3v"
      }
    },
    {
      "cell_type": "markdown",
      "source": [
        "**9. What is the difference between multithreading and multiprocessing?**\n",
        "\n",
        "**Ans:**\n",
        "**Definition:**\n",
        "\n",
        "Multithreading involves running multiple threads within a single process.\n",
        "\n",
        "Multiprocessing involves running multiple processes, each with its own memory space.\n",
        "\n",
        "**Memory Usage:**\n",
        "\n",
        "Multithreading shares the same memory space between threads.\n",
        "\n",
        "Multiprocessing uses separate memory for each process.\n",
        "\n",
        "**Performance:**\n",
        "\n",
        "Multithreading is faster for I/O-bound tasks (e.g., file handling, networking).\n",
        "\n",
        "Multiprocessing is faster for CPU-bound tasks (e.g., data processing, computations).\n",
        "\n",
        "**Overhead:**\n",
        "\n",
        "Multithreading has lower overhead since threads share resources.\n",
        "\n",
        "Multiprocessing has higher overhead due to memory isolation and inter-process communication.\n",
        "\n",
        "**Concurrency vs. Parallelism:**\n",
        "\n",
        "Multithreading provides concurrency (tasks appear to run simultaneously).\n",
        "\n",
        "Multiprocessing provides true parallelism (tasks actually run simultaneously if multiple CPUs are available)."
      ],
      "metadata": {
        "id": "cFhhnxd-j_yh"
      }
    },
    {
      "cell_type": "markdown",
      "source": [
        "**10. What are the advantages of using logging in a program?**\n",
        "\n",
        "**Ans:**\n",
        "**Advantages of using logging in a program:**\n",
        "\n",
        "1. Error Tracking and Debugging\n",
        "Logging helps identify and diagnose errors, making it easier to debug and fix issues. By logging error messages, you can pinpoint the source of the problem and take corrective action.\n",
        "\n",
        "2. Auditing and Accountability\n",
        "Logging provides a record of all significant events, allowing you to track user activity, system changes, and other important occurrences. This helps maintain accountability and ensures compliance with regulatory requirements.\n",
        "\n",
        "3. Performance Monitoring and Optimization\n",
        "Logging can help you monitor system performance, identify bottlenecks, and optimize resource utilization. By analyzing log data, you can gain insights into how to improve your program's efficiency and scalability.\n",
        "\n",
        "4. Security Monitoring and Incident Response\n",
        "Logging plays a critical role in detecting and responding to security incidents. By monitoring log data, you can identify potential security threats, detect anomalies, and take swift action to prevent or mitigate attacks.\n",
        "\n",
        "5. Compliance and Regulatory Requirements\n",
        "Many industries have regulatory requirements that mandate logging and auditing. By implementing logging, you can ensure compliance with these regulations and avoid potential penalties or fines."
      ],
      "metadata": {
        "id": "sV1essIUkzvu"
      }
    },
    {
      "cell_type": "markdown",
      "source": [
        "11. What is memory management in Python?\n",
        "\n",
        "**Ans:**\n",
        "Memory management in Python refers to the way the Python interpreter handles the allocation and deallocation of memory for your program's objects and data. Python has a built-in memory management system that ensures efficient use of memory resources, making it easier for developers by abstracting low-level details."
      ],
      "metadata": {
        "id": "m16Vp_gTliOQ"
      }
    },
    {
      "cell_type": "markdown",
      "source": [
        "**12. What are the basic steps involved in exception handling in Python? **\n",
        "\n",
        "**Ans:**\n",
        "** Basic steps involved in exception handling in Python:**\n",
        "1. Place the code that could potentially throw an error inside a try block.\n",
        "\n",
        "2. Use one or more except blocks to handle specific errors that might occur during execution.\n",
        "\n",
        "3. Add a general except block to catch any unforeseen exceptions (use sparingly to avoid masking bugs).\n",
        "\n",
        "4. Use an else block to specify actions that should only execute if no exception occurs.\n",
        "\n",
        "5. Use a finally block to execute cleanup code that must run, regardless of whether an exception was raised or not."
      ],
      "metadata": {
        "id": "CPpCwICQlyGv"
      }
    },
    {
      "cell_type": "markdown",
      "source": [
        "**13. Why is memory management important in Python?**\n",
        "\n",
        "**Ans:**\n",
        "**Why Memory Management is Important:**\n",
        "\n",
        "Prevents Memory Leaks: Memory leaks occur when a program holds onto memory that it no longer needs, causing the available memory to decrease over time. Effective memory management helps prevent memory leaks.\n",
        "\n",
        "Optimizes System Performance: Proper memory management ensures that the system's memory is used efficiently, leading to better performance and faster execution of programs.\n",
        "\n",
        "Reduces Risk of Crashes: Memory-related issues, such as running out of memory or accessing invalid memory locations, can cause programs to crash. Good memory management practices minimize the risk of crashes.\n",
        "\n",
        "Supports Scalability: Well-managed memory enables programs to scale more efficiently, handling larger datasets and user bases without significant performance degradation."
      ],
      "metadata": {
        "id": "STAyJWJimrwC"
      }
    },
    {
      "cell_type": "markdown",
      "source": [
        "**14. What is the role of try and except in exception handling?**\n",
        "\n",
        "**Ans:**\n",
        "**Role of try:**\n",
        "The try block contains the code that might raise an exception.\n",
        "\n",
        "It allows you to \"try\" executing a block of code while anticipating potential errors.\n",
        "\n",
        "If no exceptions occur, the code inside the try block executes successfully, and the program continues as normal.\n",
        "\n",
        "**Role of except:**\n",
        "The except block handles specific exceptions that might be raised in the try block.\n",
        "\n",
        "When an exception occurs, the program immediately jumps to the corresponding except block to handle it.\n",
        "\n",
        "Multiple except blocks can be used to handle different types of exceptions, making error management more flexible."
      ],
      "metadata": {
        "id": "4agpNHLFnc7W"
      }
    },
    {
      "cell_type": "markdown",
      "source": [
        "**15. How does Python's garbage collection system work?**\n",
        "\n",
        "**Ans:**\n",
        "Python's garbage collection (GC) system automatically manages memory by identifying and cleaning up objects that are no longer in use.\n",
        "\n",
        "**How Python's Garbage Collection System Works:**\n",
        "Object Creation: When an object is created, its reference count is set to 1.\n",
        "\n",
        "Reference Counting: As references to the object are created or deleted, its reference count is updated accordingly.\n",
        "\n",
        "Deallocation: When an object's reference count reaches zero, it's immediately deallocated.\n",
        "\n",
        "Cycle Detection: Periodically, the garbage collector runs a cycle detection algorithm to identify and break circular references.\n",
        "\n",
        "Generation-Based Collection: The garbage collector focuses on the youngest generation first, collecting objects that are no longer needed."
      ],
      "metadata": {
        "id": "NdsFrdUUnzje"
      }
    },
    {
      "cell_type": "markdown",
      "source": [
        "**16. What is the purpose of the else block in exception handling?**\n",
        "\n",
        "**Ans:**\n",
        "The else block in exception handling serves the purpose of executing code that should run only if no exceptions occur in the try block. It provides a clear distinction between the code that might raise an exception and the code that should only execute when everything runs smoothly."
      ],
      "metadata": {
        "id": "uRWV6vFipNXz"
      }
    },
    {
      "cell_type": "markdown",
      "source": [
        "**17. What are the common logging levels in Python?**\n",
        "\n",
        "**Ans:**\n",
        "**Common Logging Levels in Python:**\n",
        "\n",
        "1. DEBUG\n",
        "Severity: Lowest\n",
        "Purpose: Detailed information for debugging purposes\n",
        "Example: logging.debug(\"This is a debug message\")\n",
        "2. INFO\n",
        "Severity: Moderate\n",
        "Purpose: General information about the program's execution\n",
        "Example: logging.info(\"This is an info message\")\n",
        "3. WARNING\n",
        "Severity: Moderate to high\n",
        "Purpose: Potential issues or unexpected events\n",
        "Example: logging.warning(\"This is a warning message\")\n",
        "4. ERROR\n",
        "Severity: High\n",
        "Purpose: Errors that prevent normal program execution\n",
        "Example: logging.error(\"This is an error message\")\n",
        "5. CRITICAL\n",
        "Severity: Highest\n",
        "Purpose: Critical errors that require immediate attention\n",
        "Example: logging.critical(\"This is a critical message\")"
      ],
      "metadata": {
        "id": "IoUgHoXbpaBj"
      }
    },
    {
      "cell_type": "markdown",
      "source": [
        "**18. What is the difference between os.fork() and multiprocessing in Python?**\n",
        "\n",
        "**Ans:**\n",
        "**Key differences:**\n",
        "\n",
        "Memory sharing: os.fork() shares the same memory space between the parent and child processes, while multiprocessing creates separate memory spaces for each process.\n",
        "\n",
        "Process creation: os.fork() creates a new process by duplicating the parent process, while multiprocessing creates a new process from scratch.\n",
        "\n",
        "Inter-process communication: multiprocessing provides built-in support for IPC, while os.fork() requires manual implementation of IPC mechanisms.\n",
        "\n",
        "Synchronization primitives: multiprocessing provides synchronization primitives like locks and semaphores, while os.fork() requires manual implementation of synchronization mechanisms."
      ],
      "metadata": {
        "id": "L9fNwepAqnN_"
      }
    },
    {
      "cell_type": "markdown",
      "source": [
        "**19. What is the importance of closing a file in Python?**\n",
        "\n",
        "**Ans:**\n",
        "Closing files in Python ensures proper resource management, prevents data corruption, and avoids potential program crashes."
      ],
      "metadata": {
        "id": "iZttObGosJmD"
      }
    },
    {
      "cell_type": "markdown",
      "source": [
        "**20. What is the difference between file.read() and file.readline() in Python?**\n",
        "\n",
        "**Ans:**\n",
        "**Key differences**:\n",
        "\n",
        "Data returned: file.read() returns the entire file data as a single string, while file.readline() returns a single line of data as a string.\n",
        "\n",
        "Newline characters: Both methods include newline characters in the returned data. However, file.readline() includes only the newline character at the end of the line, while file.read() includes all newline characters in the file.\n",
        "\n",
        "File pointer movement: After reading data using file.read(), the file pointer moves to the end of the file.\n",
        "After reading a line using file.readline(), the file pointer moves to the beginning of the next line."
      ],
      "metadata": {
        "id": "7xkNPE4Ssscm"
      }
    },
    {
      "cell_type": "markdown",
      "source": [
        "**21. What is the logging module in Python used for?**\n",
        "\n",
        "**Ans:**\n",
        "The logging module in Python is a standard library used to record events or messages during the execution of a program. It provides a flexible framework for tracking, debugging, monitoring, and auditing program behavior, helping developers understand and improve their code."
      ],
      "metadata": {
        "id": "xS9nj6cQtre4"
      }
    },
    {
      "cell_type": "markdown",
      "source": [
        "**22. What is the os module in Python used for in file handling?**\n",
        "\n",
        "**Ans:**\n",
        "The os module in Python provides a way to interact with the operating system, offering various functions for file handling and directory manipulation. It is especially useful for managing files and directories in an operating system-independent way.\n",
        "\n",
        "**Why Use the os Module?**\n",
        "\n",
        "It simplifies file handling tasks like checking, renaming, or deleting files.\n",
        "\n",
        "It ensures compatibility across different operating systems, making scripts portable.\n",
        "\n",
        "It provides tools for complex directory traversal and metadata management."
      ],
      "metadata": {
        "id": "jt1QnFfDt_Rm"
      }
    },
    {
      "cell_type": "markdown",
      "source": [
        "**23. What are the challenges associated with memory management in Python ?**\n",
        "\n",
        "**Ans:**\n",
        "While Python’s memory management is user-friendly, challenges like circular references, inefficient memory usage, garbage collection overhead, and fragmentation can arise in advanced use cases."
      ],
      "metadata": {
        "id": "EtZz5rtbumKD"
      }
    },
    {
      "cell_type": "markdown",
      "source": [
        "**24.  How do you raise an exception manually in Python?**\n",
        "\n",
        "**Ans:**\n",
        "In Python, I can manually raise an exception using the raise statement. This allows me to trigger exceptions intentionally when certain conditions are met, ensuring that my program can handle unexpected scenarios effectively."
      ],
      "metadata": {
        "id": "suH7fSN8vF60"
      }
    },
    {
      "cell_type": "markdown",
      "source": [
        "**25. Why is it important to use multithreading in certain applications?**\n",
        "\n",
        "**Ans:**\n",
        "Multithreading enhances performance, responsiveness, and efficiency in I/O-bound applications or tasks that can benefit from concurrent execution. By allowing multiple threads to operate simultaneously, it makes programs more capable of handling complex, real-time, or multi-task operations effectively."
      ],
      "metadata": {
        "id": "r9BXzYKxvd8L"
      }
    },
    {
      "cell_type": "markdown",
      "source": [
        "**Practical Questions:**\n",
        "\n",
        "**1. How can you open a file for writing in Python and write a string to it?**\n",
        "\n",
        "Ans:"
      ],
      "metadata": {
        "id": "GLDlRAFlv4Gk"
      }
    },
    {
      "cell_type": "code",
      "source": [
        "file= open('creating_file.txt','w')\n",
        "file.write(\"It is a easy task.\")\n",
        "file.close()"
      ],
      "metadata": {
        "id": "77-LE70YwIeE"
      },
      "execution_count": 1,
      "outputs": []
    },
    {
      "cell_type": "markdown",
      "source": [
        "**2. Write a Python program to read the contents of a file and print each line.**\n",
        "\n",
        "**Ans:**"
      ],
      "metadata": {
        "id": "MUKx7JFNw-lg"
      }
    },
    {
      "cell_type": "code",
      "source": [
        "with open(\"creating_file.txt\", \"r\") as file:\n",
        "    for line in file:\n",
        "        print(line.strip())\n"
      ],
      "metadata": {
        "colab": {
          "base_uri": "https://localhost:8080/"
        },
        "id": "o29ampqmyUCG",
        "outputId": "0b1ec394-eb8e-426a-e239-000e0cdbf20e"
      },
      "execution_count": 2,
      "outputs": [
        {
          "output_type": "stream",
          "name": "stdout",
          "text": [
            "It is a easy task.\n"
          ]
        }
      ]
    },
    {
      "cell_type": "markdown",
      "source": [
        "**3. How would you handle a case where the file doesn't exist while trying to open it for reading?**\n",
        "\n",
        "**Ans:**"
      ],
      "metadata": {
        "id": "wKmoKYWJzQE8"
      }
    },
    {
      "cell_type": "code",
      "source": [
        "try:\n",
        "    with open(\"example.txt\", \"r\") as file:\n",
        "        content = file.read()\n",
        "        print(content)\n",
        "except FileNotFoundError:\n",
        "    print(\"Error: The file does not exist. Please check the file name or path.\")\n"
      ],
      "metadata": {
        "colab": {
          "base_uri": "https://localhost:8080/"
        },
        "id": "Bl995nGGzmht",
        "outputId": "4a4eacc4-7690-49b2-babb-fa337a9dfee5"
      },
      "execution_count": 3,
      "outputs": [
        {
          "output_type": "stream",
          "name": "stdout",
          "text": [
            "Error: The file does not exist. Please check the file name or path.\n"
          ]
        }
      ]
    },
    {
      "cell_type": "markdown",
      "source": [
        "**4. Write a Python script that reads from one file and writes its content to another file.**\n",
        "\n",
        "**Ans:**"
      ],
      "metadata": {
        "id": "E9FoelY20b04"
      }
    },
    {
      "cell_type": "code",
      "source": [
        "# Define the source and destination file paths\n",
        "source_file = \"creating_file.txt\"  # File to read from\n",
        "destination_file = \"destination.txt\"  # File to write to\n",
        "\n",
        "with open(source_file, \"r\") as src, open(destination_file, \"w\") as dest:\n",
        "\n",
        "   for i in src:\n",
        "      dest.write(line)\n",
        "\n",
        "with open(\"destination.txt\", \"r\") as file:\n",
        "    for i in file:\n",
        "        print(i.strip())\n"
      ],
      "metadata": {
        "colab": {
          "base_uri": "https://localhost:8080/"
        },
        "id": "RlM_Rk2z0wHn",
        "outputId": "31012f8d-3f2e-4cf8-b647-8b4b3aa5e12b"
      },
      "execution_count": 4,
      "outputs": [
        {
          "output_type": "stream",
          "name": "stdout",
          "text": [
            "It is a easy task.\n"
          ]
        }
      ]
    },
    {
      "cell_type": "markdown",
      "source": [
        "**5. How would you catch and handle division by zero error in Python?**\n",
        "\n",
        "**Ans:**"
      ],
      "metadata": {
        "id": "Z5trKad4v-TN"
      }
    },
    {
      "cell_type": "code",
      "source": [
        "def divide_numbers(a, b):\n",
        "    try:\n",
        "        result = a / b\n",
        "        print(f\"The result of {a} divided by {b} is: {result}\")\n",
        "    except ZeroDivisionError:\n",
        "        print(\"Error: Division by zero is not allowed.\")\n",
        "    except Exception as e:\n",
        "        print(f\"An unexpected error occurred: {e}\")\n",
        "\n",
        "# Example usage\n",
        "divide_numbers(300, 0)  # Attempting to divide by zero\n",
        "divide_numbers(300, 3)  # Normal division\n"
      ],
      "metadata": {
        "colab": {
          "base_uri": "https://localhost:8080/"
        },
        "id": "gpOTo3ZCwJc6",
        "outputId": "59fd4e09-f261-4036-a2d9-dbc3800e2243"
      },
      "execution_count": 59,
      "outputs": [
        {
          "output_type": "stream",
          "name": "stdout",
          "text": [
            "Error: Division by zero is not allowed.\n",
            "The result of 300 divided by 3 is: 100.0\n"
          ]
        }
      ]
    },
    {
      "cell_type": "markdown",
      "source": [
        "**6. How would you catch and handle division by zero error in Python?**\n",
        "\n",
        "**Ans:**"
      ],
      "metadata": {
        "id": "2D6ueDdOZ09k"
      }
    },
    {
      "cell_type": "code",
      "source": [
        "try:\n",
        "    numerator = int(input(\"Enter numerator: \"))\n",
        "    denominator = int(input(\"Enter denominator: \"))\n",
        "    result = numerator / denominator\n",
        "    print(f\"Result: {result}\")\n",
        "except ZeroDivisionError:\n",
        "    print(\"Here I am handling zero devision error\")\n"
      ],
      "metadata": {
        "colab": {
          "base_uri": "https://localhost:8080/"
        },
        "id": "gn_6Bs0YaSWo",
        "outputId": "b202f80a-5842-4ad9-d5d0-1c805a47079c"
      },
      "execution_count": 9,
      "outputs": [
        {
          "output_type": "stream",
          "name": "stdout",
          "text": [
            "Enter numerator: 11\n",
            "Enter denominator: 0\n",
            "Here I am handling zero devision error\n"
          ]
        }
      ]
    },
    {
      "cell_type": "markdown",
      "source": [
        "**7. How do you log information at different levels (INFO, ERROR, WARNING) in Python using the logging module?**\n",
        "\n",
        "**Ans:**"
      ],
      "metadata": {
        "id": "9ee5liH2bRut"
      }
    },
    {
      "cell_type": "code",
      "source": [
        "import logging\n",
        "\n",
        "# Configure the logging system\n",
        "logging.basicConfig(\n",
        "    level=logging.DEBUG,  # Set the minimum logging level\n",
        "    format=\"%(asctime)s - %(levelname)s - %(message)s\"\n",
        ")\n",
        "\n",
        "# Log messages at different levels\n",
        "logging.debug(\"This is a DEBUG message (used for debugging purposes).\")\n",
        "logging.info(\"This is an INFO message (general program information).\")\n",
        "logging.warning(\"This is a WARNING message (indicates potential issues).\")\n",
        "logging.error(\"This is an ERROR message (something went wrong).\")\n",
        "logging.critical(\"This is a CRITICAL message (serious problem).\")\n"
      ],
      "metadata": {
        "colab": {
          "base_uri": "https://localhost:8080/"
        },
        "id": "1hvUOccmbpAY",
        "outputId": "43664fa3-a883-4985-c162-3850d88c96ac"
      },
      "execution_count": 10,
      "outputs": [
        {
          "output_type": "stream",
          "name": "stderr",
          "text": [
            "WARNING:root:This is a WARNING message (indicates potential issues).\n",
            "ERROR:root:This is an ERROR message (something went wrong).\n",
            "CRITICAL:root:This is a CRITICAL message (serious problem).\n"
          ]
        }
      ]
    },
    {
      "cell_type": "markdown",
      "source": [
        "**8. Write a program to handle a file opening error using exception handling.**\n",
        "\n",
        "**Ans:**"
      ],
      "metadata": {
        "id": "2QgLTkDIcKNP"
      }
    },
    {
      "cell_type": "code",
      "source": [
        "try:\n",
        "    # Attempt to open a non-existent file\n",
        "    with open(\"nonexistent_file.txt\", \"r\") as file:\n",
        "        content = file.read()\n",
        "        print(content)\n",
        "except FileNotFoundError:\n",
        "    print(\"Error: The file does not exist. Please check the file name or path.\")\n",
        "except PermissionError:\n",
        "    print(\"Error: You do not have permission to access this file.\")\n",
        "except Exception as e:\n",
        "    print(f\"An unexpected error occurred: {e}\")\n"
      ],
      "metadata": {
        "colab": {
          "base_uri": "https://localhost:8080/"
        },
        "id": "le7wvSUIccCo",
        "outputId": "c07eadc0-117e-4b95-f0b6-b09c32bd5921"
      },
      "execution_count": 13,
      "outputs": [
        {
          "output_type": "stream",
          "name": "stdout",
          "text": [
            "Error: The file does not exist. Please check the file name or path.\n"
          ]
        }
      ]
    },
    {
      "cell_type": "markdown",
      "source": [
        "**9. How can you read a file line by line and store its content in a list in Python?**\n",
        "\n",
        "**Ans:**"
      ],
      "metadata": {
        "id": "eWrnvyTPd6J6"
      }
    },
    {
      "cell_type": "code",
      "source": [
        "with open(\"creating_file.txt\", \"r\") as file:\n",
        "    lines = [line.strip() for line in file]\n",
        "\n",
        "print(lines)\n"
      ],
      "metadata": {
        "colab": {
          "base_uri": "https://localhost:8080/"
        },
        "id": "lwEkf8VfeaRO",
        "outputId": "af05fd5a-9e51-4fb5-c509-498d8d10dadf"
      },
      "execution_count": 15,
      "outputs": [
        {
          "output_type": "stream",
          "name": "stdout",
          "text": [
            "['It is a easy task.']\n"
          ]
        }
      ]
    },
    {
      "cell_type": "markdown",
      "source": [
        "**10. How can you append data to an existing file in Python?**\n",
        "\n",
        "**Ans:**"
      ],
      "metadata": {
        "id": "lw6B6NXLfJMR"
      }
    },
    {
      "cell_type": "code",
      "source": [
        "# Open the file in append mode\n",
        "with open(\"creating_file.txt\", \"a\") as file:\n",
        "    # Append a new line to the file\n",
        "    file.write(\"This is a new line of text.\\n\")\n",
        "\n",
        "# Appendatation has been completed\n",
        "with open('creating_file.txt','r') as f:\n",
        "  print(f.read())\n"
      ],
      "metadata": {
        "colab": {
          "base_uri": "https://localhost:8080/"
        },
        "id": "-MU28I3rfe3Q",
        "outputId": "4d7282b8-6fc1-4c96-8843-0f5bf77a492d"
      },
      "execution_count": 17,
      "outputs": [
        {
          "output_type": "stream",
          "name": "stdout",
          "text": [
            "It is a easy task.This is a new line of text.\n",
            "This is a new line of text.\n",
            "\n"
          ]
        }
      ]
    },
    {
      "cell_type": "markdown",
      "source": [
        "11. Write a Python program that uses a try-except block to handle an error when attempting to access a\n",
        "dictionary key that doesn't exist.\n",
        "\n",
        "**Ans:**"
      ],
      "metadata": {
        "id": "1EZXUBcPg5UI"
      }
    },
    {
      "cell_type": "code",
      "source": [
        "# Define a sample dictionary\n",
        "data = {\"name\": \"Abhinav\", \"age\": 23, \"city\": \"Delhi\"}\n",
        "\n",
        "try:\n",
        "    key = input(\"Enter the key you want to access: \")\n",
        "    value = data[key]\n",
        "    print(f\"The value for the key '{key}' is: {value}\")\n",
        "except KeyError:\n",
        "    print(f\"Error: The key '{key}' does not exist in the dictionary.\")\n"
      ],
      "metadata": {
        "colab": {
          "base_uri": "https://localhost:8080/"
        },
        "id": "Z8oiY24shFMy",
        "outputId": "80dc949d-d671-49f3-b3e2-95a9740e4df3"
      },
      "execution_count": 19,
      "outputs": [
        {
          "output_type": "stream",
          "name": "stdout",
          "text": [
            "Enter the key you want to access: course\n",
            "Error: The key 'course' does not exist in the dictionary.\n"
          ]
        }
      ]
    },
    {
      "cell_type": "markdown",
      "source": [
        "12. Write a program that demonstrates using multiple except blocks to handle different types of exceptions.\n",
        "\n",
        "**Ans:**"
      ],
      "metadata": {
        "id": "VhEygfesjE3K"
      }
    },
    {
      "cell_type": "code",
      "source": [
        "try:\n",
        "    # Input two numbers\n",
        "    num1 = int(input(\"Enter the first number: \"))\n",
        "    num2 = int(input(\"Enter the second number: \"))\n",
        "\n",
        "    # Attempt division\n",
        "    result = num1 / num2\n",
        "\n",
        "    # Open a file to write the result\n",
        "    with open(\"output.txt\", \"w\") as file:\n",
        "        file.write(f\"The result of the division is: {result}\")\n",
        "\n",
        "    print(f\"The result is: {result}\")\n",
        "\n",
        "except ValueError:\n",
        "    print(\"Error: Invalid input. Please enter a valid integer.\")\n",
        "\n",
        "except ZeroDivisionError:\n",
        "    print(\"Error: Division by zero is not allowed.\")\n",
        "\n",
        "except IOError:\n",
        "    print(\"Error: Could not write to the file. Please check your file permissions or path.\")\n",
        "\n",
        "except Exception as e:\n",
        "    print(f\"An unexpected error occurred: {e}\")\n"
      ],
      "metadata": {
        "colab": {
          "base_uri": "https://localhost:8080/"
        },
        "id": "WoZ-jWxajVC4",
        "outputId": "2d912940-161b-46f2-97c3-26bd70bfcbf1"
      },
      "execution_count": 21,
      "outputs": [
        {
          "output_type": "stream",
          "name": "stdout",
          "text": [
            "Enter the first number: 25\n",
            "Enter the second number: 0\n",
            "Error: Division by zero is not allowed.\n"
          ]
        }
      ]
    },
    {
      "cell_type": "markdown",
      "source": [
        "**13. How would you check if a file exists before attempting to read it in Python?**\n",
        "\n",
        "**Ans:**"
      ],
      "metadata": {
        "id": "8rfDwQ2-jvlX"
      }
    },
    {
      "cell_type": "code",
      "source": [
        "try:\n",
        "    with open(\"example.txt\", \"r\") as file:\n",
        "        content = file.read()\n",
        "        print(content)\n",
        "except FileNotFoundError:\n",
        "    print(\"Error: The file does not exist.\")\n"
      ],
      "metadata": {
        "colab": {
          "base_uri": "https://localhost:8080/"
        },
        "id": "78wE-6cCkEiR",
        "outputId": "4d559ab3-6b37-4d12-8e3b-eb948c222824"
      },
      "execution_count": 22,
      "outputs": [
        {
          "output_type": "stream",
          "name": "stdout",
          "text": [
            "Error: The file does not exist.\n"
          ]
        }
      ]
    },
    {
      "cell_type": "markdown",
      "source": [
        "**14. Write a program that uses the logging module to log both informational and error messages.**\n",
        "\n",
        "**Ans:**"
      ],
      "metadata": {
        "id": "HZmI_YIOkHip"
      }
    },
    {
      "cell_type": "code",
      "source": [
        "import logging\n",
        "\n",
        "logging.basicConfig(\n",
        "    level=logging.DEBUG,\n",
        "    format=\"%(asctime)s - %(levelname)s - %(message)s\",\n",
        "    filename=\"app.log\",\n",
        "    filemode=\"w\"\n",
        ")\n",
        "\n",
        "try:\n",
        "    # Log an informational message\n",
        "    logging.info(\"Starting the program\")\n",
        "\n",
        "    # Simulate a task\n",
        "    logging.info(\"Attempting to divide numbers\")\n",
        "    numerator = 10\n",
        "    denominator = 0\n",
        "    result = numerator / denominator\n",
        "    logging.info(f\"Division successful. Result: {result}\")\n",
        "\n",
        "except ZeroDivisionError as e:\n",
        "    logging.error(\"An error occurred: Division by zero is not allowed\")\n",
        "\n",
        "except Exception as e:\n",
        "    logging.error(f\"An unexpected error occurred: {e}\")\n",
        "\n",
        "finally:\n",
        "    logging.info(\"Program has completed execution\")\n"
      ],
      "metadata": {
        "colab": {
          "base_uri": "https://localhost:8080/"
        },
        "id": "kLd23tPLkVzr",
        "outputId": "bce81de2-d353-405f-8f22-7f0149e2d03d"
      },
      "execution_count": 23,
      "outputs": [
        {
          "output_type": "stream",
          "name": "stderr",
          "text": [
            "ERROR:root:An error occurred: Division by zero is not allowed\n"
          ]
        }
      ]
    },
    {
      "cell_type": "markdown",
      "source": [
        "**15. Write a Python program that prints the content of a file and handles the case when the file is empty.**\n",
        "\n",
        "**Ans:**"
      ],
      "metadata": {
        "id": "wviDBXCgkojJ"
      }
    },
    {
      "cell_type": "code",
      "source": [
        "try:\n",
        "    with open(\"new_file.txt\", \"r\") as file:\n",
        "        content = file.read()\n",
        "\n",
        "        if not content:\n",
        "            print(\"The file is empty.\")\n",
        "        else:\n",
        "            print(\"File Content:\")\n",
        "            print(content)\n",
        "except FileNotFoundError:\n",
        "    print(\"Error: The file does not exist. Please check the file name or path.\")\n",
        "except Exception as e:\n",
        "    print(f\"An unexpected error occurred: {e}\")\n"
      ],
      "metadata": {
        "colab": {
          "base_uri": "https://localhost:8080/"
        },
        "id": "sGIZT98pk7iw",
        "outputId": "6c41192f-ac21-4767-a6f8-6591a42d2eb8"
      },
      "execution_count": 24,
      "outputs": [
        {
          "output_type": "stream",
          "name": "stdout",
          "text": [
            "Error: The file does not exist. Please check the file name or path.\n"
          ]
        }
      ]
    },
    {
      "cell_type": "markdown",
      "source": [
        "**16. Demonstrate how to use memory profiling to check the memory usage of a small program.**\n",
        "\n",
        "**Ans:**"
      ],
      "metadata": {
        "id": "fwctBf8JlKZh"
      }
    },
    {
      "cell_type": "code",
      "source": [
        "!pip install -q memory-profiler\n",
        "\n",
        "# Import required modules\n",
        "from memory_profiler import profile\n",
        "\n",
        "# Define a function with the @profile decorator for memory profiling\n",
        "@profile\n",
        "def generate_large_list():\n",
        "    # Create a large list of numbers\n",
        "    large_list = [i for i in range(10**6)]  # 1 million numbers\n",
        "    return large_list\n",
        "\n",
        "# Run the function\n",
        "if __name__ == \"__main__\":\n",
        "    data = generate_large_list()\n",
        "\n",
        "%%writefile memory_script.py\n",
        "from memory_profiler import profile\n",
        "\n",
        "@profile\n",
        "def generate_large_list():\n",
        "    large_list = [i for i in range(10**6)]\n",
        "    return large_list\n",
        "\n",
        "if __name__ == \"__main__\":\n",
        "    data = generate_large_list()\n",
        "\n"
      ],
      "metadata": {
        "colab": {
          "base_uri": "https://localhost:8080/"
        },
        "id": "3eG7sQpZlih9",
        "outputId": "42f4eb67-f5a3-4d22-91ae-1eb666d077b5"
      },
      "execution_count": 30,
      "outputs": [
        {
          "output_type": "stream",
          "name": "stdout",
          "text": [
            "ERROR: Could not find file <ipython-input-30-667b83a702ad>\n",
            "NOTE: %mprun can only be used on functions defined in physical files, and not in the IPython environment.\n"
          ]
        },
        {
          "output_type": "stream",
          "name": "stderr",
          "text": [
            "UsageError: Line magic function `%%writefile` not found.\n"
          ]
        }
      ]
    },
    {
      "cell_type": "markdown",
      "source": [
        "**17. Write a Python program to create and write a list of numbers to a file, one number per line.**\n",
        "\n",
        "**Ans:**"
      ],
      "metadata": {
        "id": "4ZXy5wLZm1iG"
      }
    },
    {
      "cell_type": "code",
      "source": [
        "# Define a list of numbers\n",
        "numbers = [1, 2, 3, 4, 5, 6, 7, 8, 9, 10]\n",
        "\n",
        "# Specify the file name\n",
        "file_name = \"numbers.txt\"\n",
        "\n",
        "with open(file_name, \"w\") as file:\n",
        "    for number in numbers:\n",
        "        file.write(f\"{number}\\n\")\n",
        "\n",
        "print(f\"The numbers have been written to {file_name}\")\n",
        "\n",
        "with open(\"numbers.txt\", \"r\") as file:\n",
        "    for line in file:\n",
        "        print(line.strip())\n",
        "\n"
      ],
      "metadata": {
        "colab": {
          "base_uri": "https://localhost:8080/"
        },
        "id": "J2HYLEomnFWT",
        "outputId": "d504e5c8-6df2-435f-aadf-65b495661749"
      },
      "execution_count": 33,
      "outputs": [
        {
          "output_type": "stream",
          "name": "stdout",
          "text": [
            "The numbers have been written to numbers.txt\n",
            "1\n",
            "2\n",
            "3\n",
            "4\n",
            "5\n",
            "6\n",
            "7\n",
            "8\n",
            "9\n",
            "10\n"
          ]
        }
      ]
    },
    {
      "cell_type": "markdown",
      "source": [
        "**18. How would you implement a basic logging setup that logs to a file with rotation after 1MB?**\n",
        "\n",
        "**Ans:**"
      ],
      "metadata": {
        "id": "d7Q_sGgon6GS"
      }
    },
    {
      "cell_type": "code",
      "source": [
        "import logging\n",
        "from logging.handlers import RotatingFileHandler\n",
        "\n",
        "# Create a logger\n",
        "logger = logging.getLogger(__name__)\n",
        "logger.setLevel(logging.INFO)\n",
        "\n",
        "# Create a rotating file handler\n",
        "handler = RotatingFileHandler('log_file.log', maxBytes=1024*1024, backupCount=5)\n",
        "handler.setLevel(logging.INFO)\n",
        "\n",
        "# Create a formatter and set it for the handler\n",
        "formatter = logging.Formatter('%(asctime)s - %(name)s - %(levelname)s - %(message)s')\n",
        "handler.setFormatter(formatter)\n",
        "\n",
        "# Add the handler to the logger\n",
        "logger.addHandler(handler)\n",
        "\n",
        "# Test the logger\n",
        "logger.info('This is an info message')\n",
        "logger.warning('This is a warning message')\n",
        "logger.error('This is an error message')"
      ],
      "metadata": {
        "colab": {
          "base_uri": "https://localhost:8080/"
        },
        "id": "_Et5qt0Eo9rd",
        "outputId": "57a433e5-955a-493a-cd08-f774ffad5533"
      },
      "execution_count": 35,
      "outputs": [
        {
          "output_type": "stream",
          "name": "stderr",
          "text": [
            "INFO:__main__:This is an info message\n",
            "WARNING:__main__:This is a warning message\n",
            "ERROR:__main__:This is an error message\n"
          ]
        }
      ]
    },
    {
      "cell_type": "markdown",
      "source": [
        "**19. Write a program that handles both IndexError and KeyError using a try-except block.**\n",
        "\n",
        "**Ans:**"
      ],
      "metadata": {
        "id": "4PMU3owVpFzA"
      }
    },
    {
      "cell_type": "code",
      "source": [
        "def handle_exceptions():\n",
        "    try:\n",
        "        my_list = [10, 20, 30]\n",
        "        print(my_list[5])\n",
        "\n",
        "        my_dict = {'a': 1, 'b': 2}\n",
        "        print(my_dict['c'])\n",
        "\n",
        "    except IndexError as e:\n",
        "        print(f\"IndexError occurred: {e}\")\n",
        "\n",
        "    except KeyError as e:\n",
        "        print(f\"KeyError occurred: {e}\")\n",
        "\n",
        "handle_exceptions()\n"
      ],
      "metadata": {
        "colab": {
          "base_uri": "https://localhost:8080/"
        },
        "id": "f1hf-vW5pvWO",
        "outputId": "bbeeb5f0-5f16-460c-aac6-418707623b0f"
      },
      "execution_count": 36,
      "outputs": [
        {
          "output_type": "stream",
          "name": "stdout",
          "text": [
            "IndexError occurred: list index out of range\n"
          ]
        }
      ]
    },
    {
      "cell_type": "markdown",
      "source": [
        "**20. How would you open a file and read its contents using a context manager in Python?**\n",
        "\n",
        "**Ans:**"
      ],
      "metadata": {
        "id": "8rR6sZI0p6g2"
      }
    },
    {
      "cell_type": "code",
      "source": [
        "# Using a context manager to open and read a file\n",
        "file_path = 'creating_file.txt'\n",
        "\n",
        "try:\n",
        "    with open(file_path, 'r') as file:\n",
        "        contents = file.read()\n",
        "        print(contents)\n",
        "except FileNotFoundError:\n",
        "    print(f\"The file '{file_path}' was not found.\")\n"
      ],
      "metadata": {
        "colab": {
          "base_uri": "https://localhost:8080/"
        },
        "id": "ZPA67a6EqEf2",
        "outputId": "5f870312-6228-48ef-81ac-9f5be826bc01"
      },
      "execution_count": 40,
      "outputs": [
        {
          "output_type": "stream",
          "name": "stdout",
          "text": [
            "It is a easy task.This is a new line of text.\n",
            "This is a new line of text.\n",
            "\n"
          ]
        }
      ]
    },
    {
      "cell_type": "markdown",
      "source": [
        "**21. Write a Python program that reads a file and prints the number of occurrences of a specific word.**\n",
        "\n",
        "**Ans:**"
      ],
      "metadata": {
        "id": "3uJqvI9iqOtQ"
      }
    },
    {
      "cell_type": "code",
      "source": [
        "def count_word_occurrences(file_path, word_to_count):\n",
        "    file_path= 'creating_file.txt'\n",
        "    try:\n",
        "        with open(file_path, 'r') as file:\n",
        "            content = file.read().lower()\n",
        "            word_list = content.split()\n",
        "            count = word_list.count(word_to_count.lower())\n",
        "            print(f\"The word '{word_to_count}' occurs {count} time(s) in the file.\")\n",
        "    except FileNotFoundError:\n",
        "        print(f\"The file '{file_path}' was not found.\")\n",
        "    except Exception as e:\n",
        "        print(f\"An error occurred: {e}\")\n",
        "\n",
        "file_path = 'creating_file.txt'\n",
        "word_to_count = 'new'\n",
        "count_word_occurrences(file_path, word_to_count)\n"
      ],
      "metadata": {
        "colab": {
          "base_uri": "https://localhost:8080/"
        },
        "id": "sYhJmOWhqcsF",
        "outputId": "0d4db0e5-2e5e-40b4-db21-1c62f5e98c63"
      },
      "execution_count": 42,
      "outputs": [
        {
          "output_type": "stream",
          "name": "stdout",
          "text": [
            "The word 'new' occurs 2 time(s) in the file.\n"
          ]
        }
      ]
    },
    {
      "cell_type": "markdown",
      "source": [
        "**22. How can you check if a file is empty before attempting to read its contents?**\n",
        "\n",
        "**Ans:**"
      ],
      "metadata": {
        "id": "tU86HMz3rYOt"
      }
    },
    {
      "cell_type": "code",
      "source": [
        "import os\n",
        "\n",
        "def is_file_empty(file_path):\n",
        "    file_path= 'creating_file.txt'\n",
        "    try:\n",
        "        if not os.path.exists(file_path):\n",
        "            print(f\"The file '{file_path}' does not exist.\")\n",
        "            return\n",
        "\n",
        "        if os.path.getsize(file_path) == 0:\n",
        "            print(f\"The file '{file_path}' is empty.\")\n",
        "        else:\n",
        "            print(f\"The file '{file_path}' is not empty.\")\n",
        "    except Exception as e:\n",
        "        print(f\"An error occurred: {e}\")\n",
        "\n",
        "file_path = 'example.txt'\n",
        "is_file_empty(file_path)\n"
      ],
      "metadata": {
        "colab": {
          "base_uri": "https://localhost:8080/"
        },
        "id": "UUvNn3Chtg3N",
        "outputId": "bc5401b6-b631-46d1-9cbe-3839d63ebcdd"
      },
      "execution_count": 52,
      "outputs": [
        {
          "output_type": "stream",
          "name": "stdout",
          "text": [
            "The file 'creating_file.txt' is not empty.\n"
          ]
        }
      ]
    },
    {
      "cell_type": "markdown",
      "source": [
        "**23. Write a Python program that writes to a log file when an error occurs during file handling.**\n",
        "\n",
        "**Ans:**"
      ],
      "metadata": {
        "id": "JuPfNlCkuJSL"
      }
    },
    {
      "cell_type": "code",
      "source": [
        "import logging\n",
        "\n",
        "\n",
        "logging.basicConfig(\n",
        "    filename='file_errors.log',\n",
        "    level=logging.ERROR,\n",
        "    format='%(asctime)s - %(levelname)s - %(message)s'\n",
        ")\n",
        "\n",
        "def process_file(file_path):\n",
        "    file_path= 'creating_file.txt'\n",
        "    try:\n",
        "        with open(file_path, 'r') as file:\n",
        "            content = file.read()\n",
        "            print(\"File content successfully read!\")\n",
        "            print(content)\n",
        "\n",
        "    except FileNotFoundError as e:\n",
        "        logging.error(f\"FileNotFoundError: {e}\")\n",
        "        print(f\"Error: The file '{file_path}' was not found. Check the log file for details.\")\n",
        "\n",
        "    except PermissionError as e:\n",
        "        logging.error(f\"PermissionError: {e}\")\n",
        "        print(f\"Error: Permission denied for the file '{file_path}'. Check the log file for details.\")\n",
        "\n",
        "    except Exception as e:\n",
        "        logging.error(f\"An unexpected error occurred: {e}\")\n",
        "        print(\"An unexpected error occurred. Check the log file for details.\")\n",
        "\n",
        "# Example usage\n",
        "file_path = 'example.txt'  # Replace with your file name\n",
        "process_file(file_path)\n"
      ],
      "metadata": {
        "colab": {
          "base_uri": "https://localhost:8080/"
        },
        "id": "YoZ5r8R8uVug",
        "outputId": "269dad60-104e-4746-a548-035836875d5e"
      },
      "execution_count": 56,
      "outputs": [
        {
          "output_type": "stream",
          "name": "stdout",
          "text": [
            "File content successfully read!\n",
            "It is a easy task.This is a new line of text.\n",
            "This is a new line of text.\n",
            "\n"
          ]
        }
      ]
    }
  ]
}